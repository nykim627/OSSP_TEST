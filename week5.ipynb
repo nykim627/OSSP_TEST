{
 "cells": [
  {
   "cell_type": "code",
   "execution_count": 1,
   "id": "4c0196cf",
   "metadata": {
    "ExecuteTime": {
     "end_time": "2022-09-29T04:47:27.965792Z",
     "start_time": "2022-09-29T04:47:26.757631Z"
    }
   },
   "outputs": [
    {
     "name": "stdout",
     "output_type": "stream",
     "text": [
      "이름입력: d\n",
      "이름입력2: d\n",
      "<출력>\n",
      "d\n",
      "d\n"
     ]
    }
   ],
   "source": [
    "name = input(\"이름입력: \")\n",
    "name2 = input(\"이름입력2: \")\n",
    "\n",
    "print(\"<출력>\")\n",
    "print(name)\n",
    "print(name2)"
   ]
  },
  {
   "cell_type": "code",
   "execution_count": null,
   "id": "b64c43d6",
   "metadata": {},
   "outputs": [],
   "source": []
  }
 ],
 "metadata": {
  "kernelspec": {
   "display_name": "Python 3 (ipykernel)",
   "language": "python",
   "name": "python3"
  },
  "language_info": {
   "codemirror_mode": {
    "name": "ipython",
    "version": 3
   },
   "file_extension": ".py",
   "mimetype": "text/x-python",
   "name": "python",
   "nbconvert_exporter": "python",
   "pygments_lexer": "ipython3",
   "version": "3.9.13"
  },
  "toc": {
   "base_numbering": 1,
   "nav_menu": {},
   "number_sections": true,
   "sideBar": true,
   "skip_h1_title": false,
   "title_cell": "Table of Contents",
   "title_sidebar": "Contents",
   "toc_cell": false,
   "toc_position": {},
   "toc_section_display": true,
   "toc_window_display": false
  }
 },
 "nbformat": 4,
 "nbformat_minor": 5
}
